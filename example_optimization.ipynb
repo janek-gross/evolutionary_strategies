{
 "cells": [
  {
   "cell_type": "markdown",
   "metadata": {},
   "source": [
    "# Evolutionary Optimization of a 2D Inverted Parabola"
   ]
  },
  {
   "cell_type": "code",
   "execution_count": 1,
   "metadata": {},
   "outputs": [],
   "source": [
    "from evolutionary_strategies_model import *\n",
    "from optimizer import *"
   ]
  },
  {
   "cell_type": "code",
   "execution_count": 2,
   "metadata": {},
   "outputs": [],
   "source": [
    "# Fitness function to maximize\n",
    "def fitness_function(params):\n",
    "    \"\"\"\n",
    "    Function for test purposes.\n",
    "    lokal maximum at (3,-3)\n",
    "\n",
    "    \"\"\"\n",
    "    fitness = -(params[0]-3)**2 - (params[1]+3)**2\n",
    "    return fitness"
   ]
  },
  {
   "cell_type": "code",
   "execution_count": 3,
   "metadata": {
    "scrolled": true
   },
   "outputs": [
    {
     "name": "stdout",
     "output_type": "stream",
     "text": [
      "### Starting training ###\n",
      "### Generation 1/300 ###\n",
      "### Generation 21/300 ###\n",
      "### Generation 41/300 ###\n",
      "### Generation 61/300 ###\n",
      "### Generation 81/300 ###\n",
      "### Generation 101/300 ###\n",
      "### Generation 121/300 ###\n",
      "### Generation 141/300 ###\n",
      "### Generation 161/300 ###\n",
      "### Generation 181/300 ###\n",
      "### Generation 201/300 ###\n",
      "### Generation 221/300 ###\n",
      "### Generation 241/300 ###\n",
      "### Generation 261/300 ###\n",
      "### Generation 281/300 ###\n",
      "### Training finished ###\n"
     ]
    }
   ],
   "source": [
    "opt = optimizer(n_generations = 300, fitness_function = fitness_function, verbose = False)\n",
    "model = evolutionary_strategies_model(n_population = 50, n_params = 2, n_survival = 10, sigma_init = 100)\n",
    "opt.train(model)\n",
    "#model.save()"
   ]
  },
  {
   "cell_type": "code",
   "execution_count": 4,
   "metadata": {},
   "outputs": [
    {
     "name": "stdout",
     "output_type": "stream",
     "text": [
      "# Best parameters #\n",
      "[[ 3. -3.]\n",
      " [ 3. -3.]\n",
      " [ 3. -3.]\n",
      " [ 3. -3.]\n",
      " [ 3. -3.]\n",
      " [ 3. -3.]\n",
      " [ 3. -3.]\n",
      " [ 3. -3.]\n",
      " [ 3. -3.]\n",
      " [ 3. -3.]]\n",
      "# Mutation rates instances [0 - 4] #\n",
      "[[4.84194919e-19 3.03021742e-18]\n",
      " [1.18052522e-18 1.79767099e-18]\n",
      " [2.47222116e-18 1.04467013e-18]\n",
      " [8.52321358e-19 6.01990881e-19]\n",
      " [1.22555762e-18 1.27282788e-18]]\n"
     ]
    }
   ],
   "source": [
    "print(\"# Best parameters #\")\n",
    "print(model.params[model.indices_fittest,:])\n",
    "print(\"# Mutation rates instances [0 - 4] #\")\n",
    "print(model.sigmas[0:5])"
   ]
  },
  {
   "cell_type": "code",
   "execution_count": null,
   "metadata": {},
   "outputs": [],
   "source": []
  },
  {
   "cell_type": "code",
   "execution_count": null,
   "metadata": {},
   "outputs": [],
   "source": []
  }
 ],
 "metadata": {
  "kernelspec": {
   "display_name": "Python 3",
   "language": "python",
   "name": "python3"
  },
  "language_info": {
   "codemirror_mode": {
    "name": "ipython",
    "version": 3
   },
   "file_extension": ".py",
   "mimetype": "text/x-python",
   "name": "python",
   "nbconvert_exporter": "python",
   "pygments_lexer": "ipython3",
   "version": "3.7.5"
  }
 },
 "nbformat": 4,
 "nbformat_minor": 4
}
